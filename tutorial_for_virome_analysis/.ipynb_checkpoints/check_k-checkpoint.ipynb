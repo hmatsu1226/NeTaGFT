{
 "cells": [
  {
   "cell_type": "code",
   "execution_count": 1,
   "id": "8eeca359-520c-4347-ae8f-27d94a4bed6f",
   "metadata": {},
   "outputs": [],
   "source": [
    "source(\"../PhyGraFT.R\")"
   ]
  },
  {
   "cell_type": "code",
   "execution_count": null,
   "id": "15eea415-423f-425c-9939-4c232b59c97e",
   "metadata": {},
   "outputs": [],
   "source": [
    "ks <- c(10,20,50,100,200,500,1000)\n",
    "m <- 200\n",
    "\n",
    "for(i in 1:length(ks)){\n",
    "    k <- ks[i]\n",
    "  \n",
    "    As[[i]] <- as.matrix(read.table(paste0(\"data/A_k\",k,\".txt\")))\n",
    "  \n",
    "    X <- as.matrix(read.table(paste0(\"data/X_k\",k,\".txt\"), header=TRUE))\n",
    "    for(j in 1:dim(X)[2]){\n",
    "        X[,j] <- X[,j] / sqrt(sum(X[,j]**2))\n",
    "      }\n",
    "    Xs[[i]] <- X\n",
    "\n",
    "    #construct graph Laplacian\n",
    "    L <- sym_normalized_graph_laplacian(As[[i]])\n",
    "    \n",
    "    #perform GFT\n",
    "    tmp <- graph_fourier_transform(L,X,m)\n",
    "    U <- tmp[[1]]\n",
    "    eigenvalues <- tmp[[2]]\n",
    "    hF <- tmp[[3]]\n",
    "    tF <- tmp[[4]]\n",
    "    \n",
    "    plot_aGLR(Xs[[i]], U, 100)\n",
    "}"
   ]
  }
 ],
 "metadata": {
  "kernelspec": {
   "display_name": "R",
   "language": "R",
   "name": "ir"
  },
  "language_info": {
   "codemirror_mode": "r",
   "file_extension": ".r",
   "mimetype": "text/x-r-source",
   "name": "R",
   "pygments_lexer": "r",
   "version": "4.3.0"
  }
 },
 "nbformat": 4,
 "nbformat_minor": 5
}
